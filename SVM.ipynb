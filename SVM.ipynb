{
  "nbformat": 4,
  "nbformat_minor": 0,
  "metadata": {
    "colab": {
      "provenance": [],
      "name": "SVM.ipynb",
      "mount_file_id": "1ZYQnbMyCTPr8zoRnFPK65b5EYh1tV8kr",
      "authorship_tag": "ABX9TyMhMnl/iPv513pHyEp48kHc",
      "include_colab_link": true
    },
    "kernelspec": {
      "name": "python3",
      "display_name": "Python 3"
    },
    "language_info": {
      "name": "python"
    }
  },
  "cells": [
    {
      "cell_type": "markdown",
      "metadata": {
        "id": "view-in-github",
        "colab_type": "text"
      },
      "source": [
        "<a href=\"https://colab.research.google.com/github/tswiger34/Business-Analytics/blob/main/SVM.ipynb\" target=\"_parent\"><img src=\"https://colab.research.google.com/assets/colab-badge.svg\" alt=\"Open In Colab\"/></a>"
      ]
    },
    {
      "cell_type": "markdown",
      "source": [
        "Load dataset and libraries"
      ],
      "metadata": {
        "id": "Tc4EdLMliDVb"
      }
    },
    {
      "cell_type": "code",
      "source": [
        "## Libraries\n",
        "import pandas as pd\n",
        "from sklearn.model_selection import train_test_split\n",
        "from sklearn.metrics import accuracy_score\n",
        "from sklearn import svm\n",
        "from sklearn.decomposition import PCA\n",
        "from sklearn.preprocessing import StandardScaler\n",
        "from sklearn.model_selection import cross_val_score"
      ],
      "metadata": {
        "id": "KVwvc7zHiYgi"
      },
      "execution_count": null,
      "outputs": []
    },
    {
      "cell_type": "code",
      "source": [
        "## Data\n",
        "data = pd.read_csv(\"/train.csv\").dropna()\n",
        "\n",
        "X_encoded = pd.get_dummies(data, columns=['EJ'])\n",
        "X_encoded.head(3)\n",
        "\n",
        "X = X_encoded.drop(columns = ['Class', 'Id'])\n",
        "\n",
        "## Scaling the data\n",
        "scaler = StandardScaler()\n",
        "scaler.fit(X)\n",
        "X = scaler.transform(X)\n",
        "\n",
        "y = data[\"Class\"]\n",
        "X_train, X_test, y_train, y_test = train_test_split(X, y, test_size=0.2, random_state=42)"
      ],
      "metadata": {
        "id": "MkHXgdg_ixKl"
      },
      "execution_count": null,
      "outputs": []
    },
    {
      "cell_type": "code",
      "source": [
        "X.info()"
      ],
      "metadata": {
        "id": "NI4epG3wQTkO"
      },
      "execution_count": null,
      "outputs": []
    },
    {
      "cell_type": "markdown",
      "source": [
        "SVM Model"
      ],
      "metadata": {
        "id": "6vE5Mye5jT25"
      }
    },
    {
      "cell_type": "code",
      "source": [
        "clf = svm.SVC(kernel='linear')\n",
        "\n",
        "# 4. Train the SVM model\n",
        "clf.fit(X_train, y_train)\n",
        "\n",
        "# 5. Make predictions on the test set\n",
        "y_pred = clf.predict(X_test)\n",
        "\n",
        "# 6. Evaluate the model\n",
        "accuracy = accuracy_score(y_test, y_pred)\n",
        "print(\"Accuracy:\", accuracy)"
      ],
      "metadata": {
        "id": "BRHKPtHVjfRF",
        "colab": {
          "base_uri": "https://localhost:8080/"
        },
        "outputId": "25c0c7cd-a21c-41d0-e299-b1f47a54ff6f"
      },
      "execution_count": null,
      "outputs": [
        {
          "output_type": "stream",
          "name": "stdout",
          "text": [
            "Accuracy: 0.9272727272727272\n"
          ]
        }
      ]
    },
    {
      "cell_type": "markdown",
      "source": [
        "Finding best C hyperparameter"
      ],
      "metadata": {
        "id": "TMK7A2EpNAG2"
      }
    },
    {
      "cell_type": "code",
      "source": [
        "# Step 1: Define a wide range of C values\n",
        "C_values = [7, 7.1, 7.2, 7.3, 7.4, 7.5, 7.6, 7.7, 7.8, 7.9, 8, 8.1, 8.2, 8.4, 8.4, 8.5, 8.6, 8.7, 8.8, 8.9]\n",
        "\n",
        "# Step 3: Perform cross-validation with different C values\n",
        "best_score = 0\n",
        "best_C = None\n",
        "\n",
        "for C in C_values:\n",
        "    # Step 4: Train the SVM with a specific C value and evaluate on the validation set\n",
        "    svm_model = svm.SVC(C=C)\n",
        "    scores = cross_val_score(svm_model, X_train, y_train, cv=5)\n",
        "    average_score = scores.mean()\n",
        "\n",
        "    # Step 5: Update the best C value if necessary\n",
        "    if average_score > best_score:\n",
        "        best_score = average_score\n",
        "        best_C = C\n",
        "\n",
        "# Step 6: Train the final SVM model with the best C value\n",
        "final_model = svm.SVC(C=best_C)\n",
        "final_model.fit(X_train, y_train)\n",
        "\n",
        "# Step 7: Evaluate the final model on an independent test set\n",
        "y_pred = final_model.predict(X_test)\n",
        "test_accuracy = accuracy_score(y_test, y_pred)\n",
        "print(\"Accuracy:\", test_accuracy)\n",
        "print(best_C)"
      ],
      "metadata": {
        "colab": {
          "base_uri": "https://localhost:8080/"
        },
        "id": "jIwuBOMXNDPI",
        "outputId": "3371dbe7-631d-48fc-b31d-2284378e3bd1"
      },
      "execution_count": null,
      "outputs": [
        {
          "output_type": "stream",
          "name": "stdout",
          "text": [
            "Accuracy: 0.8909090909090909\n",
            "7.1\n"
          ]
        }
      ]
    },
    {
      "cell_type": "markdown",
      "source": [
        "Find the best Gamma hyper parameter"
      ],
      "metadata": {
        "id": "ZflWB8acPMYW"
      }
    },
    {
      "cell_type": "code",
      "source": [
        "# Step 1: Define a range of gamma values\n",
        "gamma_values = [.01, .02, .03, .04, .05, .06, .07, .08, .09]\n",
        "\n",
        "# Step 3: Perform cross-validation with different gamma values\n",
        "best_score = 0\n",
        "best_gamma = None\n",
        "\n",
        "for gamma in gamma_values:\n",
        "    # Step 4: Train the SVM with a specific gamma value and evaluate on the validation set\n",
        "    svm_model = svm.SVC(kernel='rbf', gamma=gamma)\n",
        "    scores = cross_val_score(svm_model, X_train, y_train, cv=5)\n",
        "    average_score = scores.mean()\n",
        "\n",
        "    # Step 5: Update the best gamma value if necessary\n",
        "    if average_score > best_score:\n",
        "        best_score = average_score\n",
        "        best_gamma = gamma\n",
        "\n",
        "# Step 6: Train the final SVM model with the best gamma value\n",
        "final_model = svm.SVC(kernel='rbf', gamma=best_gamma)\n",
        "final_model.fit(X_train, y_train)\n",
        "\n",
        "# Step 7: Evaluate the final model on an independent test set\n",
        "test_score = final_model.score(X_test, y_test)\n",
        "\n",
        "print('Accuracy:', test_score)\n",
        "print('Gamma:', best_gamma)"
      ],
      "metadata": {
        "colab": {
          "base_uri": "https://localhost:8080/"
        },
        "id": "LErZtNa9PL5_",
        "outputId": "2aae1a1f-5f04-47c1-9308-08473692b544"
      },
      "execution_count": null,
      "outputs": [
        {
          "output_type": "stream",
          "name": "stdout",
          "text": [
            "Accuracy: 0.8727272727272727\n",
            "Gamma: 0.03\n"
          ]
        }
      ]
    },
    {
      "cell_type": "code",
      "source": [
        "## SVM Model 2\n",
        "clf = svm.SVC(kernel='rbf', C= 7.1, gamma = .03)\n",
        "\n",
        "# 4. Train the SVM model\n",
        "clf.fit(X_train, y_train)\n",
        "\n",
        "# 5. Make predictions on the test set\n",
        "y_pred = clf.predict(X_test)\n",
        "\n",
        "# 6. Evaluate the model\n",
        "accuracy = accuracy_score(y_test, y_pred)\n",
        "print(\"Accuracy:\", accuracy)"
      ],
      "metadata": {
        "colab": {
          "base_uri": "https://localhost:8080/"
        },
        "id": "j19dkQlnRKsg",
        "outputId": "b2f87b18-c9ba-4546-acff-7755dca79103"
      },
      "execution_count": null,
      "outputs": [
        {
          "output_type": "stream",
          "name": "stdout",
          "text": [
            "Accuracy: 0.8909090909090909\n"
          ]
        }
      ]
    },
    {
      "cell_type": "code",
      "source": [
        "## SVM Model 3"
      ],
      "metadata": {
        "id": "TA_dA_rRRPDD"
      },
      "execution_count": null,
      "outputs": []
    },
    {
      "cell_type": "code",
      "source": [
        "clf = svm.SVC(kernel='poly')\n",
        "\n",
        "# 4. Train the SVM model\n",
        "clf.fit(X_train, y_train)\n",
        "\n",
        "# 5. Make predictions on the test set\n",
        "y_pred = clf.predict(X_test)\n",
        "\n",
        "# 6. Evaluate the model\n",
        "accuracy = accuracy_score(y_test, y_pred)\n",
        "print(\"Accuracy:\", accuracy)"
      ],
      "metadata": {
        "colab": {
          "base_uri": "https://localhost:8080/"
        },
        "id": "f5z0U8n2RQmD",
        "outputId": "d6bfd58c-7293-4b9f-d3d7-a06843e174d1"
      },
      "execution_count": null,
      "outputs": [
        {
          "output_type": "stream",
          "name": "stdout",
          "text": [
            "Accuracy: 0.8727272727272727\n"
          ]
        }
      ]
    },
    {
      "cell_type": "markdown",
      "source": [
        "Do the same using dimensionality reduction for training times"
      ],
      "metadata": {
        "id": "CpL3zEJZwY6E"
      }
    },
    {
      "cell_type": "code",
      "source": [],
      "metadata": {
        "id": "cB-ZT2lf1pLc"
      },
      "execution_count": null,
      "outputs": []
    },
    {
      "cell_type": "code",
      "source": [
        "## PCA\n",
        "pca = PCA(n_components=.95)\n",
        "X_reduced = pca.fit_transform(X)"
      ],
      "metadata": {
        "id": "K4kxQn-QwdpH"
      },
      "execution_count": null,
      "outputs": []
    },
    {
      "cell_type": "code",
      "source": [
        "## Split into test and training sets\n",
        "X_train, X_test, y_train, y_test = train_test_split(X_reduced, y, test_size=0.2, random_state=42)"
      ],
      "metadata": {
        "id": "2OAXOrZMxDOY"
      },
      "execution_count": null,
      "outputs": []
    },
    {
      "cell_type": "code",
      "source": [
        "## SVM Model 4\n",
        "\n",
        "clfr1 = svm.SVC(kernel='linear')\n",
        "\n",
        "# 4. Train the SVM model\n",
        "clfr1.fit(X_train, y_train)\n",
        "\n",
        "# 5. Make predictions on the test set\n",
        "y_pred = clfr1.predict(X_test)\n",
        "\n",
        "# 6. Evaluate the model\n",
        "accuracy = accuracy_score(y_test, y_pred)\n",
        "print(\"Accuracy:\", accuracy)"
      ],
      "metadata": {
        "colab": {
          "base_uri": "https://localhost:8080/"
        },
        "id": "K1pUqfqkxHTC",
        "outputId": "d43c1edf-abb0-4744-ed8f-9386d29ac11d"
      },
      "execution_count": null,
      "outputs": [
        {
          "output_type": "stream",
          "name": "stdout",
          "text": [
            "Accuracy: 0.9090909090909091\n"
          ]
        }
      ]
    },
    {
      "cell_type": "code",
      "source": [
        "## SVM Model 5\n",
        "clfr2 = svm.SVC(kernel='rbf', C = 7.1, gamma = .03)\n",
        "\n",
        "# 4. Train the SVM model\n",
        "clfr2.fit(X_train, y_train)\n",
        "\n",
        "# 5. Make predictions on the test set\n",
        "y_pred = clfr2.predict(X_test)\n",
        "\n",
        "# 6. Evaluate the model\n",
        "accuracy = accuracy_score(y_test, y_pred)\n",
        "print(\"Accuracy:\", accuracy)"
      ],
      "metadata": {
        "colab": {
          "base_uri": "https://localhost:8080/"
        },
        "id": "u6Pm-Bi1yHNy",
        "outputId": "9aa1dde5-4ece-456a-c1c1-db01f6605cef"
      },
      "execution_count": null,
      "outputs": [
        {
          "output_type": "stream",
          "name": "stdout",
          "text": [
            "Accuracy: 0.8909090909090909\n"
          ]
        }
      ]
    },
    {
      "cell_type": "code",
      "source": [
        "clfr3 = svm.SVC(kernel='poly')  # You can choose different kernels such as 'linear', 'poly', 'rbf', etc.\n",
        "\n",
        "# 4. Train the SVM model\n",
        "clfr3.fit(X_train, y_train)\n",
        "\n",
        "# 5. Make predictions on the test set\n",
        "y_pred = clfr3.predict(X_test)\n",
        "\n",
        "# 6. Evaluate the model\n",
        "accuracy = accuracy_score(y_test, y_pred)\n",
        "print(\"Accuracy:\", accuracy)"
      ],
      "metadata": {
        "colab": {
          "base_uri": "https://localhost:8080/"
        },
        "id": "4mf_GwJL-f_9",
        "outputId": "5873a70d-2261-4213-a787-df99a31aba11"
      },
      "execution_count": null,
      "outputs": [
        {
          "output_type": "stream",
          "name": "stdout",
          "text": [
            "Accuracy: 0.8727272727272727\n"
          ]
        }
      ]
    }
  ]
}