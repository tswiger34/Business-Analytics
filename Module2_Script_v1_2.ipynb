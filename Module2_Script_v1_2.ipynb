{
  "nbformat": 4,
  "nbformat_minor": 0,
  "metadata": {
    "colab": {
      "provenance": [],
      "include_colab_link": true
    },
    "kernelspec": {
      "name": "python3",
      "display_name": "Python 3"
    },
    "language_info": {
      "name": "python"
    }
  },
  "cells": [
    {
      "cell_type": "markdown",
      "metadata": {
        "id": "view-in-github",
        "colab_type": "text"
      },
      "source": [
        "<a href=\"https://colab.research.google.com/github/tswiger34/Business-Analytics/blob/main/Module2_Script_v1_2.ipynb\" target=\"_parent\"><img src=\"https://colab.research.google.com/assets/colab-badge.svg\" alt=\"Open In Colab\"/></a>"
      ]
    },
    {
      "cell_type": "markdown",
      "metadata": {
        "id": "p_Yu45OYdj3Y"
      },
      "source": [
        "# IS 4487 Module 2 Script\n",
        "\n",
        "## Agenda\n",
        "\n",
        "- Loading installed packages\n",
        "- Inspect data\n",
        "- Explore plot types \n",
        "\n",
        "Make sure you have downloaded tonight's script and data from Canvas."
      ]
    },
    {
      "cell_type": "markdown",
      "metadata": {
        "id": "UE93RwXhgiJS"
      },
      "source": [
        "##Load Libraries\n",
        "\n",
        "In this class we will be using \n",
        "- Pandas\n",
        "- Scikitlearn\n",
        "- Matplotlib\n",
        "\n",
        "We can pull sample data from \n",
        "- statsmodels.api"
      ]
    },
    {
      "cell_type": "code",
      "metadata": {
        "id": "JYRZY5n0gfNe"
      },
      "source": [
        "import pandas as pd\n",
        "import matplotlib.pyplot as plt\n",
        "import sklearn as sl\n",
        "import numpy as np"
      ],
      "execution_count": 48,
      "outputs": []
    },
    {
      "cell_type": "markdown",
      "metadata": {
        "id": "bREaXo8jfu-O"
      },
      "source": [
        "## Getting data into Pandas\n",
        "\n",
        "In this case we will load data from the statsmodels.org library\n",
        "\n",
        "See the Canvas assignments and lectures for a description of the Megatelco data\n",
        "\n",
        "**Note:** you will need to enter a code supplied by Google in the next step. \n"
      ]
    },
    {
      "cell_type": "code",
      "metadata": {
        "id": "6_FwprxVgR0e",
        "colab": {
          "base_uri": "https://localhost:8080/"
        },
        "outputId": "e7156ff1-47ff-4dc9-e48a-f40df5aa3a83"
      },
      "source": [
        "from google.colab import drive \n",
        "drive.mount('/content/gdrive', force_remount=True)\n",
        "\n",
        "df = pd.read_csv (r'/megatelco.csv')\n",
        "\n",
        "print (df)"
      ],
      "execution_count": 5,
      "outputs": [
        {
          "output_type": "stream",
          "name": "stdout",
          "text": [
            "Mounted at /content/gdrive\n",
            "     college  income  overage  leftover   house  handset_price  \\\n",
            "0        one   23859       70         0  519105            154   \n",
            "1       zero   72466       67        16  271182            262   \n",
            "2       zero   30883       60         0  647281            211   \n",
            "3        one   44512        0        22  754958            232   \n",
            "4       zero   70535        0         0  653421            310   \n",
            "...      ...     ...      ...       ...     ...            ...   \n",
            "4995    zero   93699       26        56  385632            384   \n",
            "4996    zero   25806       67        87  691020            142   \n",
            "4997     one   97033      138        28  710559            311   \n",
            "4998    zero   91558      229        15  853464            379   \n",
            "4999     one  115943      200        42  173038            459   \n",
            "\n",
            "      over_15mins_calls_per_month  average_call_duration  \\\n",
            "0                             5.0                      8   \n",
            "1                             5.0                      5   \n",
            "2                             3.0                      8   \n",
            "3                             0.0                      5   \n",
            "4                             0.0                     14   \n",
            "...                           ...                    ...   \n",
            "4995                          5.0                      1   \n",
            "4996                          4.0                      2   \n",
            "4997                         10.0                      2   \n",
            "4998                         27.0                      4   \n",
            "4999                         24.0                      2   \n",
            "\n",
            "     reported_satisfaction reported_usage_level considering_change_of_plan  \\\n",
            "0                      low                  low                        yes   \n",
            "1                      low                  low                        yes   \n",
            "2                      low                  low                        yes   \n",
            "3                      low                  low                         no   \n",
            "4                      low                  low                        yes   \n",
            "...                    ...                  ...                        ...   \n",
            "4995                  high                  low                        yes   \n",
            "4996                  high                  low                         no   \n",
            "4997                   low                 high                        yes   \n",
            "4998                  high                  low                         no   \n",
            "4999                  high                 high                        yes   \n",
            "\n",
            "      leave     id  \n",
            "0     LEAVE   8183  \n",
            "1     LEAVE  12501  \n",
            "2      STAY   7425  \n",
            "3     LEAVE  13488  \n",
            "4      STAY  11389  \n",
            "...     ...    ...  \n",
            "4995  LEAVE  19270  \n",
            "4996   STAY  14549  \n",
            "4997   STAY   9972  \n",
            "4998   STAY  12685  \n",
            "4999  LEAVE  13561  \n",
            "\n",
            "[5000 rows x 13 columns]\n"
          ]
        }
      ]
    },
    {
      "cell_type": "code",
      "metadata": {
        "id": "gSvao0dlhlNn"
      },
      "source": [
        "#look at the top rows\n",
        "df.head(10) "
      ],
      "execution_count": null,
      "outputs": []
    },
    {
      "cell_type": "code",
      "metadata": {
        "id": "Mk01Ip_Ehk5c"
      },
      "source": [
        "#look at last rows\n",
        "df.tail(10) "
      ],
      "execution_count": null,
      "outputs": []
    },
    {
      "cell_type": "code",
      "metadata": {
        "id": "7Hxb10xChiAf",
        "colab": {
          "base_uri": "https://localhost:8080/",
          "height": 300
        },
        "outputId": "c7bdcf72-7c0b-43cc-d966-23d2aa5a2ad8"
      },
      "source": [
        "#get a summary of the dataset\n",
        "df.describe()"
      ],
      "execution_count": 6,
      "outputs": [
        {
          "output_type": "execute_result",
          "data": {
            "text/plain": [
              "              income      overage     leftover           house  handset_price  \\\n",
              "count    5000.000000  5000.000000  5000.000000     5000.000000   5.000000e+03   \n",
              "mean    79912.948400    85.119200    24.243600   493656.326600   7.876236e+02   \n",
              "std     41703.042384    85.655622    26.847496   254287.193865   2.828291e+04   \n",
              "min    -28811.000000     0.000000     0.000000  -796132.000000   1.300000e+02   \n",
              "25%     41592.500000     0.000000     0.000000   260586.500000   2.190000e+02   \n",
              "50%     75041.500000    59.000000    15.000000   451865.500000   3.220000e+02   \n",
              "75%    115475.000000   177.000000    42.000000   701608.750000   5.280000e+02   \n",
              "max    159938.000000   335.000000    89.000000  1000000.000000   2.000234e+06   \n",
              "\n",
              "       over_15mins_calls_per_month  average_call_duration            id  \n",
              "count                  4997.000000            5000.000000   5000.000000  \n",
              "mean                      7.744647               5.958800  10036.639400  \n",
              "std                       8.806070               4.390417   5813.620304  \n",
              "min                       0.000000               1.000000      2.000000  \n",
              "25%                       1.000000               2.000000   4950.500000  \n",
              "50%                       4.000000               5.000000  10126.000000  \n",
              "75%                      14.000000               9.000000  15085.250000  \n",
              "max                      29.000000              15.000000  20000.000000  "
            ],
            "text/html": [
              "\n",
              "  <div id=\"df-49966f24-0ad0-4517-a6af-40e381b5eee2\">\n",
              "    <div class=\"colab-df-container\">\n",
              "      <div>\n",
              "<style scoped>\n",
              "    .dataframe tbody tr th:only-of-type {\n",
              "        vertical-align: middle;\n",
              "    }\n",
              "\n",
              "    .dataframe tbody tr th {\n",
              "        vertical-align: top;\n",
              "    }\n",
              "\n",
              "    .dataframe thead th {\n",
              "        text-align: right;\n",
              "    }\n",
              "</style>\n",
              "<table border=\"1\" class=\"dataframe\">\n",
              "  <thead>\n",
              "    <tr style=\"text-align: right;\">\n",
              "      <th></th>\n",
              "      <th>income</th>\n",
              "      <th>overage</th>\n",
              "      <th>leftover</th>\n",
              "      <th>house</th>\n",
              "      <th>handset_price</th>\n",
              "      <th>over_15mins_calls_per_month</th>\n",
              "      <th>average_call_duration</th>\n",
              "      <th>id</th>\n",
              "    </tr>\n",
              "  </thead>\n",
              "  <tbody>\n",
              "    <tr>\n",
              "      <th>count</th>\n",
              "      <td>5000.000000</td>\n",
              "      <td>5000.000000</td>\n",
              "      <td>5000.000000</td>\n",
              "      <td>5000.000000</td>\n",
              "      <td>5.000000e+03</td>\n",
              "      <td>4997.000000</td>\n",
              "      <td>5000.000000</td>\n",
              "      <td>5000.000000</td>\n",
              "    </tr>\n",
              "    <tr>\n",
              "      <th>mean</th>\n",
              "      <td>79912.948400</td>\n",
              "      <td>85.119200</td>\n",
              "      <td>24.243600</td>\n",
              "      <td>493656.326600</td>\n",
              "      <td>7.876236e+02</td>\n",
              "      <td>7.744647</td>\n",
              "      <td>5.958800</td>\n",
              "      <td>10036.639400</td>\n",
              "    </tr>\n",
              "    <tr>\n",
              "      <th>std</th>\n",
              "      <td>41703.042384</td>\n",
              "      <td>85.655622</td>\n",
              "      <td>26.847496</td>\n",
              "      <td>254287.193865</td>\n",
              "      <td>2.828291e+04</td>\n",
              "      <td>8.806070</td>\n",
              "      <td>4.390417</td>\n",
              "      <td>5813.620304</td>\n",
              "    </tr>\n",
              "    <tr>\n",
              "      <th>min</th>\n",
              "      <td>-28811.000000</td>\n",
              "      <td>0.000000</td>\n",
              "      <td>0.000000</td>\n",
              "      <td>-796132.000000</td>\n",
              "      <td>1.300000e+02</td>\n",
              "      <td>0.000000</td>\n",
              "      <td>1.000000</td>\n",
              "      <td>2.000000</td>\n",
              "    </tr>\n",
              "    <tr>\n",
              "      <th>25%</th>\n",
              "      <td>41592.500000</td>\n",
              "      <td>0.000000</td>\n",
              "      <td>0.000000</td>\n",
              "      <td>260586.500000</td>\n",
              "      <td>2.190000e+02</td>\n",
              "      <td>1.000000</td>\n",
              "      <td>2.000000</td>\n",
              "      <td>4950.500000</td>\n",
              "    </tr>\n",
              "    <tr>\n",
              "      <th>50%</th>\n",
              "      <td>75041.500000</td>\n",
              "      <td>59.000000</td>\n",
              "      <td>15.000000</td>\n",
              "      <td>451865.500000</td>\n",
              "      <td>3.220000e+02</td>\n",
              "      <td>4.000000</td>\n",
              "      <td>5.000000</td>\n",
              "      <td>10126.000000</td>\n",
              "    </tr>\n",
              "    <tr>\n",
              "      <th>75%</th>\n",
              "      <td>115475.000000</td>\n",
              "      <td>177.000000</td>\n",
              "      <td>42.000000</td>\n",
              "      <td>701608.750000</td>\n",
              "      <td>5.280000e+02</td>\n",
              "      <td>14.000000</td>\n",
              "      <td>9.000000</td>\n",
              "      <td>15085.250000</td>\n",
              "    </tr>\n",
              "    <tr>\n",
              "      <th>max</th>\n",
              "      <td>159938.000000</td>\n",
              "      <td>335.000000</td>\n",
              "      <td>89.000000</td>\n",
              "      <td>1000000.000000</td>\n",
              "      <td>2.000234e+06</td>\n",
              "      <td>29.000000</td>\n",
              "      <td>15.000000</td>\n",
              "      <td>20000.000000</td>\n",
              "    </tr>\n",
              "  </tbody>\n",
              "</table>\n",
              "</div>\n",
              "      <button class=\"colab-df-convert\" onclick=\"convertToInteractive('df-49966f24-0ad0-4517-a6af-40e381b5eee2')\"\n",
              "              title=\"Convert this dataframe to an interactive table.\"\n",
              "              style=\"display:none;\">\n",
              "        \n",
              "  <svg xmlns=\"http://www.w3.org/2000/svg\" height=\"24px\"viewBox=\"0 0 24 24\"\n",
              "       width=\"24px\">\n",
              "    <path d=\"M0 0h24v24H0V0z\" fill=\"none\"/>\n",
              "    <path d=\"M18.56 5.44l.94 2.06.94-2.06 2.06-.94-2.06-.94-.94-2.06-.94 2.06-2.06.94zm-11 1L8.5 8.5l.94-2.06 2.06-.94-2.06-.94L8.5 2.5l-.94 2.06-2.06.94zm10 10l.94 2.06.94-2.06 2.06-.94-2.06-.94-.94-2.06-.94 2.06-2.06.94z\"/><path d=\"M17.41 7.96l-1.37-1.37c-.4-.4-.92-.59-1.43-.59-.52 0-1.04.2-1.43.59L10.3 9.45l-7.72 7.72c-.78.78-.78 2.05 0 2.83L4 21.41c.39.39.9.59 1.41.59.51 0 1.02-.2 1.41-.59l7.78-7.78 2.81-2.81c.8-.78.8-2.07 0-2.86zM5.41 20L4 18.59l7.72-7.72 1.47 1.35L5.41 20z\"/>\n",
              "  </svg>\n",
              "      </button>\n",
              "      \n",
              "  <style>\n",
              "    .colab-df-container {\n",
              "      display:flex;\n",
              "      flex-wrap:wrap;\n",
              "      gap: 12px;\n",
              "    }\n",
              "\n",
              "    .colab-df-convert {\n",
              "      background-color: #E8F0FE;\n",
              "      border: none;\n",
              "      border-radius: 50%;\n",
              "      cursor: pointer;\n",
              "      display: none;\n",
              "      fill: #1967D2;\n",
              "      height: 32px;\n",
              "      padding: 0 0 0 0;\n",
              "      width: 32px;\n",
              "    }\n",
              "\n",
              "    .colab-df-convert:hover {\n",
              "      background-color: #E2EBFA;\n",
              "      box-shadow: 0px 1px 2px rgba(60, 64, 67, 0.3), 0px 1px 3px 1px rgba(60, 64, 67, 0.15);\n",
              "      fill: #174EA6;\n",
              "    }\n",
              "\n",
              "    [theme=dark] .colab-df-convert {\n",
              "      background-color: #3B4455;\n",
              "      fill: #D2E3FC;\n",
              "    }\n",
              "\n",
              "    [theme=dark] .colab-df-convert:hover {\n",
              "      background-color: #434B5C;\n",
              "      box-shadow: 0px 1px 3px 1px rgba(0, 0, 0, 0.15);\n",
              "      filter: drop-shadow(0px 1px 2px rgba(0, 0, 0, 0.3));\n",
              "      fill: #FFFFFF;\n",
              "    }\n",
              "  </style>\n",
              "\n",
              "      <script>\n",
              "        const buttonEl =\n",
              "          document.querySelector('#df-49966f24-0ad0-4517-a6af-40e381b5eee2 button.colab-df-convert');\n",
              "        buttonEl.style.display =\n",
              "          google.colab.kernel.accessAllowed ? 'block' : 'none';\n",
              "\n",
              "        async function convertToInteractive(key) {\n",
              "          const element = document.querySelector('#df-49966f24-0ad0-4517-a6af-40e381b5eee2');\n",
              "          const dataTable =\n",
              "            await google.colab.kernel.invokeFunction('convertToInteractive',\n",
              "                                                     [key], {});\n",
              "          if (!dataTable) return;\n",
              "\n",
              "          const docLinkHtml = 'Like what you see? Visit the ' +\n",
              "            '<a target=\"_blank\" href=https://colab.research.google.com/notebooks/data_table.ipynb>data table notebook</a>'\n",
              "            + ' to learn more about interactive tables.';\n",
              "          element.innerHTML = '';\n",
              "          dataTable['output_type'] = 'display_data';\n",
              "          await google.colab.output.renderOutput(dataTable, element);\n",
              "          const docLink = document.createElement('div');\n",
              "          docLink.innerHTML = docLinkHtml;\n",
              "          element.appendChild(docLink);\n",
              "        }\n",
              "      </script>\n",
              "    </div>\n",
              "  </div>\n",
              "  "
            ]
          },
          "metadata": {},
          "execution_count": 6
        }
      ]
    },
    {
      "cell_type": "code",
      "metadata": {
        "id": "AK7y336xJ3-6",
        "colab": {
          "base_uri": "https://localhost:8080/"
        },
        "outputId": "d80d417e-2424-42d4-d50d-3fc57154bf78"
      },
      "source": [
        "#look at the datatypes\n",
        "df.info()"
      ],
      "execution_count": 7,
      "outputs": [
        {
          "output_type": "stream",
          "name": "stdout",
          "text": [
            "<class 'pandas.core.frame.DataFrame'>\n",
            "RangeIndex: 5000 entries, 0 to 4999\n",
            "Data columns (total 13 columns):\n",
            " #   Column                       Non-Null Count  Dtype  \n",
            "---  ------                       --------------  -----  \n",
            " 0   college                      5000 non-null   object \n",
            " 1   income                       5000 non-null   int64  \n",
            " 2   overage                      5000 non-null   int64  \n",
            " 3   leftover                     5000 non-null   int64  \n",
            " 4   house                        5000 non-null   int64  \n",
            " 5   handset_price                5000 non-null   int64  \n",
            " 6   over_15mins_calls_per_month  4997 non-null   float64\n",
            " 7   average_call_duration        5000 non-null   int64  \n",
            " 8   reported_satisfaction        5000 non-null   object \n",
            " 9   reported_usage_level         5000 non-null   object \n",
            " 10  considering_change_of_plan   5000 non-null   object \n",
            " 11  leave                        5000 non-null   object \n",
            " 12  id                           5000 non-null   int64  \n",
            "dtypes: float64(1), int64(7), object(5)\n",
            "memory usage: 507.9+ KB\n"
          ]
        }
      ]
    },
    {
      "cell_type": "markdown",
      "metadata": {
        "id": "BtxOWvFlKzgE"
      },
      "source": [
        "## Clean up the data\n",
        "Did you notice anything unusual about the \"house\" amounts? \n",
        "\n",
        "How about the handset price and income?"
      ]
    },
    {
      "cell_type": "code",
      "metadata": {
        "id": "7KXLvMcBK8Za",
        "colab": {
          "base_uri": "https://localhost:8080/",
          "height": 300
        },
        "outputId": "162b664a-8a0f-407b-a31f-309477ed1939"
      },
      "source": [
        "df_clean = df[(df['house'] > 0) & (df['income'] > 0) & (df['handset_price'] < 1000)]\n",
        "df_clean.describe()"
      ],
      "execution_count": 8,
      "outputs": [
        {
          "output_type": "execute_result",
          "data": {
            "text/plain": [
              "              income      overage     leftover           house  handset_price  \\\n",
              "count    4997.000000  4997.000000  4997.000000     4997.000000    4997.000000   \n",
              "mean    79918.829498    85.116270    24.247549   494019.823294     387.558935   \n",
              "std     41673.392025    85.638266    26.848091   253648.357473     213.614256   \n",
              "min     20028.000000     0.000000     0.000000   150305.000000     130.000000   \n",
              "25%     41593.000000     0.000000     0.000000   260729.000000     219.000000   \n",
              "50%     75026.000000    59.000000    15.000000   452277.000000     322.000000   \n",
              "75%    115464.000000   177.000000    42.000000   701614.000000     528.000000   \n",
              "max    159938.000000   335.000000    89.000000  1000000.000000     899.000000   \n",
              "\n",
              "       over_15mins_calls_per_month  average_call_duration            id  \n",
              "count                  4994.000000            4997.000000   4997.000000  \n",
              "mean                      7.739287               5.957174  10034.365619  \n",
              "std                       8.802897               4.388938   5814.189195  \n",
              "min                       0.000000               1.000000      2.000000  \n",
              "25%                       1.000000               2.000000   4949.000000  \n",
              "50%                       4.000000               5.000000  10125.000000  \n",
              "75%                      14.000000               9.000000  15084.000000  \n",
              "max                      29.000000              15.000000  20000.000000  "
            ],
            "text/html": [
              "\n",
              "  <div id=\"df-1c1d5614-4905-49e5-ad01-fc56c8878eee\">\n",
              "    <div class=\"colab-df-container\">\n",
              "      <div>\n",
              "<style scoped>\n",
              "    .dataframe tbody tr th:only-of-type {\n",
              "        vertical-align: middle;\n",
              "    }\n",
              "\n",
              "    .dataframe tbody tr th {\n",
              "        vertical-align: top;\n",
              "    }\n",
              "\n",
              "    .dataframe thead th {\n",
              "        text-align: right;\n",
              "    }\n",
              "</style>\n",
              "<table border=\"1\" class=\"dataframe\">\n",
              "  <thead>\n",
              "    <tr style=\"text-align: right;\">\n",
              "      <th></th>\n",
              "      <th>income</th>\n",
              "      <th>overage</th>\n",
              "      <th>leftover</th>\n",
              "      <th>house</th>\n",
              "      <th>handset_price</th>\n",
              "      <th>over_15mins_calls_per_month</th>\n",
              "      <th>average_call_duration</th>\n",
              "      <th>id</th>\n",
              "    </tr>\n",
              "  </thead>\n",
              "  <tbody>\n",
              "    <tr>\n",
              "      <th>count</th>\n",
              "      <td>4997.000000</td>\n",
              "      <td>4997.000000</td>\n",
              "      <td>4997.000000</td>\n",
              "      <td>4997.000000</td>\n",
              "      <td>4997.000000</td>\n",
              "      <td>4994.000000</td>\n",
              "      <td>4997.000000</td>\n",
              "      <td>4997.000000</td>\n",
              "    </tr>\n",
              "    <tr>\n",
              "      <th>mean</th>\n",
              "      <td>79918.829498</td>\n",
              "      <td>85.116270</td>\n",
              "      <td>24.247549</td>\n",
              "      <td>494019.823294</td>\n",
              "      <td>387.558935</td>\n",
              "      <td>7.739287</td>\n",
              "      <td>5.957174</td>\n",
              "      <td>10034.365619</td>\n",
              "    </tr>\n",
              "    <tr>\n",
              "      <th>std</th>\n",
              "      <td>41673.392025</td>\n",
              "      <td>85.638266</td>\n",
              "      <td>26.848091</td>\n",
              "      <td>253648.357473</td>\n",
              "      <td>213.614256</td>\n",
              "      <td>8.802897</td>\n",
              "      <td>4.388938</td>\n",
              "      <td>5814.189195</td>\n",
              "    </tr>\n",
              "    <tr>\n",
              "      <th>min</th>\n",
              "      <td>20028.000000</td>\n",
              "      <td>0.000000</td>\n",
              "      <td>0.000000</td>\n",
              "      <td>150305.000000</td>\n",
              "      <td>130.000000</td>\n",
              "      <td>0.000000</td>\n",
              "      <td>1.000000</td>\n",
              "      <td>2.000000</td>\n",
              "    </tr>\n",
              "    <tr>\n",
              "      <th>25%</th>\n",
              "      <td>41593.000000</td>\n",
              "      <td>0.000000</td>\n",
              "      <td>0.000000</td>\n",
              "      <td>260729.000000</td>\n",
              "      <td>219.000000</td>\n",
              "      <td>1.000000</td>\n",
              "      <td>2.000000</td>\n",
              "      <td>4949.000000</td>\n",
              "    </tr>\n",
              "    <tr>\n",
              "      <th>50%</th>\n",
              "      <td>75026.000000</td>\n",
              "      <td>59.000000</td>\n",
              "      <td>15.000000</td>\n",
              "      <td>452277.000000</td>\n",
              "      <td>322.000000</td>\n",
              "      <td>4.000000</td>\n",
              "      <td>5.000000</td>\n",
              "      <td>10125.000000</td>\n",
              "    </tr>\n",
              "    <tr>\n",
              "      <th>75%</th>\n",
              "      <td>115464.000000</td>\n",
              "      <td>177.000000</td>\n",
              "      <td>42.000000</td>\n",
              "      <td>701614.000000</td>\n",
              "      <td>528.000000</td>\n",
              "      <td>14.000000</td>\n",
              "      <td>9.000000</td>\n",
              "      <td>15084.000000</td>\n",
              "    </tr>\n",
              "    <tr>\n",
              "      <th>max</th>\n",
              "      <td>159938.000000</td>\n",
              "      <td>335.000000</td>\n",
              "      <td>89.000000</td>\n",
              "      <td>1000000.000000</td>\n",
              "      <td>899.000000</td>\n",
              "      <td>29.000000</td>\n",
              "      <td>15.000000</td>\n",
              "      <td>20000.000000</td>\n",
              "    </tr>\n",
              "  </tbody>\n",
              "</table>\n",
              "</div>\n",
              "      <button class=\"colab-df-convert\" onclick=\"convertToInteractive('df-1c1d5614-4905-49e5-ad01-fc56c8878eee')\"\n",
              "              title=\"Convert this dataframe to an interactive table.\"\n",
              "              style=\"display:none;\">\n",
              "        \n",
              "  <svg xmlns=\"http://www.w3.org/2000/svg\" height=\"24px\"viewBox=\"0 0 24 24\"\n",
              "       width=\"24px\">\n",
              "    <path d=\"M0 0h24v24H0V0z\" fill=\"none\"/>\n",
              "    <path d=\"M18.56 5.44l.94 2.06.94-2.06 2.06-.94-2.06-.94-.94-2.06-.94 2.06-2.06.94zm-11 1L8.5 8.5l.94-2.06 2.06-.94-2.06-.94L8.5 2.5l-.94 2.06-2.06.94zm10 10l.94 2.06.94-2.06 2.06-.94-2.06-.94-.94-2.06-.94 2.06-2.06.94z\"/><path d=\"M17.41 7.96l-1.37-1.37c-.4-.4-.92-.59-1.43-.59-.52 0-1.04.2-1.43.59L10.3 9.45l-7.72 7.72c-.78.78-.78 2.05 0 2.83L4 21.41c.39.39.9.59 1.41.59.51 0 1.02-.2 1.41-.59l7.78-7.78 2.81-2.81c.8-.78.8-2.07 0-2.86zM5.41 20L4 18.59l7.72-7.72 1.47 1.35L5.41 20z\"/>\n",
              "  </svg>\n",
              "      </button>\n",
              "      \n",
              "  <style>\n",
              "    .colab-df-container {\n",
              "      display:flex;\n",
              "      flex-wrap:wrap;\n",
              "      gap: 12px;\n",
              "    }\n",
              "\n",
              "    .colab-df-convert {\n",
              "      background-color: #E8F0FE;\n",
              "      border: none;\n",
              "      border-radius: 50%;\n",
              "      cursor: pointer;\n",
              "      display: none;\n",
              "      fill: #1967D2;\n",
              "      height: 32px;\n",
              "      padding: 0 0 0 0;\n",
              "      width: 32px;\n",
              "    }\n",
              "\n",
              "    .colab-df-convert:hover {\n",
              "      background-color: #E2EBFA;\n",
              "      box-shadow: 0px 1px 2px rgba(60, 64, 67, 0.3), 0px 1px 3px 1px rgba(60, 64, 67, 0.15);\n",
              "      fill: #174EA6;\n",
              "    }\n",
              "\n",
              "    [theme=dark] .colab-df-convert {\n",
              "      background-color: #3B4455;\n",
              "      fill: #D2E3FC;\n",
              "    }\n",
              "\n",
              "    [theme=dark] .colab-df-convert:hover {\n",
              "      background-color: #434B5C;\n",
              "      box-shadow: 0px 1px 3px 1px rgba(0, 0, 0, 0.15);\n",
              "      filter: drop-shadow(0px 1px 2px rgba(0, 0, 0, 0.3));\n",
              "      fill: #FFFFFF;\n",
              "    }\n",
              "  </style>\n",
              "\n",
              "      <script>\n",
              "        const buttonEl =\n",
              "          document.querySelector('#df-1c1d5614-4905-49e5-ad01-fc56c8878eee button.colab-df-convert');\n",
              "        buttonEl.style.display =\n",
              "          google.colab.kernel.accessAllowed ? 'block' : 'none';\n",
              "\n",
              "        async function convertToInteractive(key) {\n",
              "          const element = document.querySelector('#df-1c1d5614-4905-49e5-ad01-fc56c8878eee');\n",
              "          const dataTable =\n",
              "            await google.colab.kernel.invokeFunction('convertToInteractive',\n",
              "                                                     [key], {});\n",
              "          if (!dataTable) return;\n",
              "\n",
              "          const docLinkHtml = 'Like what you see? Visit the ' +\n",
              "            '<a target=\"_blank\" href=https://colab.research.google.com/notebooks/data_table.ipynb>data table notebook</a>'\n",
              "            + ' to learn more about interactive tables.';\n",
              "          element.innerHTML = '';\n",
              "          dataTable['output_type'] = 'display_data';\n",
              "          await google.colab.output.renderOutput(dataTable, element);\n",
              "          const docLink = document.createElement('div');\n",
              "          docLink.innerHTML = docLinkHtml;\n",
              "          element.appendChild(docLink);\n",
              "        }\n",
              "      </script>\n",
              "    </div>\n",
              "  </div>\n",
              "  "
            ]
          },
          "metadata": {},
          "execution_count": 8
        }
      ]
    },
    {
      "cell_type": "markdown",
      "metadata": {
        "id": "AuB0G9gJt7gn"
      },
      "source": [
        "# Add Derived Attribute\n",
        "\n",
        "Add a column with the income in K (thousands)"
      ]
    },
    {
      "cell_type": "code",
      "metadata": {
        "id": "inCqTVMDt6ex",
        "colab": {
          "base_uri": "https://localhost:8080/",
          "height": 374
        },
        "outputId": "9b758c2a-81d2-484c-8ca0-a7c612b66857"
      },
      "source": [
        "df_clean['income_k'] = (df_clean['income']/1000).round(2)\n",
        "df_clean.head()"
      ],
      "execution_count": 11,
      "outputs": [
        {
          "output_type": "stream",
          "name": "stderr",
          "text": [
            "<ipython-input-11-41bea05a8bf4>:1: SettingWithCopyWarning: \n",
            "A value is trying to be set on a copy of a slice from a DataFrame.\n",
            "Try using .loc[row_indexer,col_indexer] = value instead\n",
            "\n",
            "See the caveats in the documentation: https://pandas.pydata.org/pandas-docs/stable/user_guide/indexing.html#returning-a-view-versus-a-copy\n",
            "  df_clean['income_k'] = (df_clean['income']/1000).round(2)\n"
          ]
        },
        {
          "output_type": "execute_result",
          "data": {
            "text/plain": [
              "  college  income  overage  leftover   house  handset_price  \\\n",
              "0     one   23859       70         0  519105            154   \n",
              "1    zero   72466       67        16  271182            262   \n",
              "2    zero   30883       60         0  647281            211   \n",
              "3     one   44512        0        22  754958            232   \n",
              "4    zero   70535        0         0  653421            310   \n",
              "\n",
              "   over_15mins_calls_per_month  average_call_duration reported_satisfaction  \\\n",
              "0                          5.0                      8                   low   \n",
              "1                          5.0                      5                   low   \n",
              "2                          3.0                      8                   low   \n",
              "3                          0.0                      5                   low   \n",
              "4                          0.0                     14                   low   \n",
              "\n",
              "  reported_usage_level considering_change_of_plan  leave     id  income_k  \n",
              "0                  low                        yes  LEAVE   8183     23.86  \n",
              "1                  low                        yes  LEAVE  12501     72.47  \n",
              "2                  low                        yes   STAY   7425     30.88  \n",
              "3                  low                         no  LEAVE  13488     44.51  \n",
              "4                  low                        yes   STAY  11389     70.54  "
            ],
            "text/html": [
              "\n",
              "  <div id=\"df-b7acdeb3-abcf-4b35-a671-cd9d56e32df6\">\n",
              "    <div class=\"colab-df-container\">\n",
              "      <div>\n",
              "<style scoped>\n",
              "    .dataframe tbody tr th:only-of-type {\n",
              "        vertical-align: middle;\n",
              "    }\n",
              "\n",
              "    .dataframe tbody tr th {\n",
              "        vertical-align: top;\n",
              "    }\n",
              "\n",
              "    .dataframe thead th {\n",
              "        text-align: right;\n",
              "    }\n",
              "</style>\n",
              "<table border=\"1\" class=\"dataframe\">\n",
              "  <thead>\n",
              "    <tr style=\"text-align: right;\">\n",
              "      <th></th>\n",
              "      <th>college</th>\n",
              "      <th>income</th>\n",
              "      <th>overage</th>\n",
              "      <th>leftover</th>\n",
              "      <th>house</th>\n",
              "      <th>handset_price</th>\n",
              "      <th>over_15mins_calls_per_month</th>\n",
              "      <th>average_call_duration</th>\n",
              "      <th>reported_satisfaction</th>\n",
              "      <th>reported_usage_level</th>\n",
              "      <th>considering_change_of_plan</th>\n",
              "      <th>leave</th>\n",
              "      <th>id</th>\n",
              "      <th>income_k</th>\n",
              "    </tr>\n",
              "  </thead>\n",
              "  <tbody>\n",
              "    <tr>\n",
              "      <th>0</th>\n",
              "      <td>one</td>\n",
              "      <td>23859</td>\n",
              "      <td>70</td>\n",
              "      <td>0</td>\n",
              "      <td>519105</td>\n",
              "      <td>154</td>\n",
              "      <td>5.0</td>\n",
              "      <td>8</td>\n",
              "      <td>low</td>\n",
              "      <td>low</td>\n",
              "      <td>yes</td>\n",
              "      <td>LEAVE</td>\n",
              "      <td>8183</td>\n",
              "      <td>23.86</td>\n",
              "    </tr>\n",
              "    <tr>\n",
              "      <th>1</th>\n",
              "      <td>zero</td>\n",
              "      <td>72466</td>\n",
              "      <td>67</td>\n",
              "      <td>16</td>\n",
              "      <td>271182</td>\n",
              "      <td>262</td>\n",
              "      <td>5.0</td>\n",
              "      <td>5</td>\n",
              "      <td>low</td>\n",
              "      <td>low</td>\n",
              "      <td>yes</td>\n",
              "      <td>LEAVE</td>\n",
              "      <td>12501</td>\n",
              "      <td>72.47</td>\n",
              "    </tr>\n",
              "    <tr>\n",
              "      <th>2</th>\n",
              "      <td>zero</td>\n",
              "      <td>30883</td>\n",
              "      <td>60</td>\n",
              "      <td>0</td>\n",
              "      <td>647281</td>\n",
              "      <td>211</td>\n",
              "      <td>3.0</td>\n",
              "      <td>8</td>\n",
              "      <td>low</td>\n",
              "      <td>low</td>\n",
              "      <td>yes</td>\n",
              "      <td>STAY</td>\n",
              "      <td>7425</td>\n",
              "      <td>30.88</td>\n",
              "    </tr>\n",
              "    <tr>\n",
              "      <th>3</th>\n",
              "      <td>one</td>\n",
              "      <td>44512</td>\n",
              "      <td>0</td>\n",
              "      <td>22</td>\n",
              "      <td>754958</td>\n",
              "      <td>232</td>\n",
              "      <td>0.0</td>\n",
              "      <td>5</td>\n",
              "      <td>low</td>\n",
              "      <td>low</td>\n",
              "      <td>no</td>\n",
              "      <td>LEAVE</td>\n",
              "      <td>13488</td>\n",
              "      <td>44.51</td>\n",
              "    </tr>\n",
              "    <tr>\n",
              "      <th>4</th>\n",
              "      <td>zero</td>\n",
              "      <td>70535</td>\n",
              "      <td>0</td>\n",
              "      <td>0</td>\n",
              "      <td>653421</td>\n",
              "      <td>310</td>\n",
              "      <td>0.0</td>\n",
              "      <td>14</td>\n",
              "      <td>low</td>\n",
              "      <td>low</td>\n",
              "      <td>yes</td>\n",
              "      <td>STAY</td>\n",
              "      <td>11389</td>\n",
              "      <td>70.54</td>\n",
              "    </tr>\n",
              "  </tbody>\n",
              "</table>\n",
              "</div>\n",
              "      <button class=\"colab-df-convert\" onclick=\"convertToInteractive('df-b7acdeb3-abcf-4b35-a671-cd9d56e32df6')\"\n",
              "              title=\"Convert this dataframe to an interactive table.\"\n",
              "              style=\"display:none;\">\n",
              "        \n",
              "  <svg xmlns=\"http://www.w3.org/2000/svg\" height=\"24px\"viewBox=\"0 0 24 24\"\n",
              "       width=\"24px\">\n",
              "    <path d=\"M0 0h24v24H0V0z\" fill=\"none\"/>\n",
              "    <path d=\"M18.56 5.44l.94 2.06.94-2.06 2.06-.94-2.06-.94-.94-2.06-.94 2.06-2.06.94zm-11 1L8.5 8.5l.94-2.06 2.06-.94-2.06-.94L8.5 2.5l-.94 2.06-2.06.94zm10 10l.94 2.06.94-2.06 2.06-.94-2.06-.94-.94-2.06-.94 2.06-2.06.94z\"/><path d=\"M17.41 7.96l-1.37-1.37c-.4-.4-.92-.59-1.43-.59-.52 0-1.04.2-1.43.59L10.3 9.45l-7.72 7.72c-.78.78-.78 2.05 0 2.83L4 21.41c.39.39.9.59 1.41.59.51 0 1.02-.2 1.41-.59l7.78-7.78 2.81-2.81c.8-.78.8-2.07 0-2.86zM5.41 20L4 18.59l7.72-7.72 1.47 1.35L5.41 20z\"/>\n",
              "  </svg>\n",
              "      </button>\n",
              "      \n",
              "  <style>\n",
              "    .colab-df-container {\n",
              "      display:flex;\n",
              "      flex-wrap:wrap;\n",
              "      gap: 12px;\n",
              "    }\n",
              "\n",
              "    .colab-df-convert {\n",
              "      background-color: #E8F0FE;\n",
              "      border: none;\n",
              "      border-radius: 50%;\n",
              "      cursor: pointer;\n",
              "      display: none;\n",
              "      fill: #1967D2;\n",
              "      height: 32px;\n",
              "      padding: 0 0 0 0;\n",
              "      width: 32px;\n",
              "    }\n",
              "\n",
              "    .colab-df-convert:hover {\n",
              "      background-color: #E2EBFA;\n",
              "      box-shadow: 0px 1px 2px rgba(60, 64, 67, 0.3), 0px 1px 3px 1px rgba(60, 64, 67, 0.15);\n",
              "      fill: #174EA6;\n",
              "    }\n",
              "\n",
              "    [theme=dark] .colab-df-convert {\n",
              "      background-color: #3B4455;\n",
              "      fill: #D2E3FC;\n",
              "    }\n",
              "\n",
              "    [theme=dark] .colab-df-convert:hover {\n",
              "      background-color: #434B5C;\n",
              "      box-shadow: 0px 1px 3px 1px rgba(0, 0, 0, 0.15);\n",
              "      filter: drop-shadow(0px 1px 2px rgba(0, 0, 0, 0.3));\n",
              "      fill: #FFFFFF;\n",
              "    }\n",
              "  </style>\n",
              "\n",
              "      <script>\n",
              "        const buttonEl =\n",
              "          document.querySelector('#df-b7acdeb3-abcf-4b35-a671-cd9d56e32df6 button.colab-df-convert');\n",
              "        buttonEl.style.display =\n",
              "          google.colab.kernel.accessAllowed ? 'block' : 'none';\n",
              "\n",
              "        async function convertToInteractive(key) {\n",
              "          const element = document.querySelector('#df-b7acdeb3-abcf-4b35-a671-cd9d56e32df6');\n",
              "          const dataTable =\n",
              "            await google.colab.kernel.invokeFunction('convertToInteractive',\n",
              "                                                     [key], {});\n",
              "          if (!dataTable) return;\n",
              "\n",
              "          const docLinkHtml = 'Like what you see? Visit the ' +\n",
              "            '<a target=\"_blank\" href=https://colab.research.google.com/notebooks/data_table.ipynb>data table notebook</a>'\n",
              "            + ' to learn more about interactive tables.';\n",
              "          element.innerHTML = '';\n",
              "          dataTable['output_type'] = 'display_data';\n",
              "          await google.colab.output.renderOutput(dataTable, element);\n",
              "          const docLink = document.createElement('div');\n",
              "          docLink.innerHTML = docLinkHtml;\n",
              "          element.appendChild(docLink);\n",
              "        }\n",
              "      </script>\n",
              "    </div>\n",
              "  </div>\n",
              "  "
            ]
          },
          "metadata": {},
          "execution_count": 11
        }
      ]
    },
    {
      "cell_type": "markdown",
      "metadata": {
        "id": "uathUi6xfDPf"
      },
      "source": [
        "## Slice the data  \n",
        " What is average house price at the two levels of leave?\n",
        "\n",
        " Conclusion?  Stayers have substantially more expensive homes."
      ]
    },
    {
      "cell_type": "code",
      "metadata": {
        "id": "bC93rEgNfFNh",
        "colab": {
          "base_uri": "https://localhost:8080/",
          "height": 143
        },
        "outputId": "d3e993c5-a712-4fa9-b6c8-681c480541a4"
      },
      "source": [
        "df_clean[['house','leave']].groupby('leave').mean().round(2) "
      ],
      "execution_count": 12,
      "outputs": [
        {
          "output_type": "execute_result",
          "data": {
            "text/plain": [
              "           house\n",
              "leave           \n",
              "LEAVE  439255.26\n",
              "STAY   547591.97"
            ],
            "text/html": [
              "\n",
              "  <div id=\"df-51b03d70-34f0-4a75-af71-2fbdc3b644e5\">\n",
              "    <div class=\"colab-df-container\">\n",
              "      <div>\n",
              "<style scoped>\n",
              "    .dataframe tbody tr th:only-of-type {\n",
              "        vertical-align: middle;\n",
              "    }\n",
              "\n",
              "    .dataframe tbody tr th {\n",
              "        vertical-align: top;\n",
              "    }\n",
              "\n",
              "    .dataframe thead th {\n",
              "        text-align: right;\n",
              "    }\n",
              "</style>\n",
              "<table border=\"1\" class=\"dataframe\">\n",
              "  <thead>\n",
              "    <tr style=\"text-align: right;\">\n",
              "      <th></th>\n",
              "      <th>house</th>\n",
              "    </tr>\n",
              "    <tr>\n",
              "      <th>leave</th>\n",
              "      <th></th>\n",
              "    </tr>\n",
              "  </thead>\n",
              "  <tbody>\n",
              "    <tr>\n",
              "      <th>LEAVE</th>\n",
              "      <td>439255.26</td>\n",
              "    </tr>\n",
              "    <tr>\n",
              "      <th>STAY</th>\n",
              "      <td>547591.97</td>\n",
              "    </tr>\n",
              "  </tbody>\n",
              "</table>\n",
              "</div>\n",
              "      <button class=\"colab-df-convert\" onclick=\"convertToInteractive('df-51b03d70-34f0-4a75-af71-2fbdc3b644e5')\"\n",
              "              title=\"Convert this dataframe to an interactive table.\"\n",
              "              style=\"display:none;\">\n",
              "        \n",
              "  <svg xmlns=\"http://www.w3.org/2000/svg\" height=\"24px\"viewBox=\"0 0 24 24\"\n",
              "       width=\"24px\">\n",
              "    <path d=\"M0 0h24v24H0V0z\" fill=\"none\"/>\n",
              "    <path d=\"M18.56 5.44l.94 2.06.94-2.06 2.06-.94-2.06-.94-.94-2.06-.94 2.06-2.06.94zm-11 1L8.5 8.5l.94-2.06 2.06-.94-2.06-.94L8.5 2.5l-.94 2.06-2.06.94zm10 10l.94 2.06.94-2.06 2.06-.94-2.06-.94-.94-2.06-.94 2.06-2.06.94z\"/><path d=\"M17.41 7.96l-1.37-1.37c-.4-.4-.92-.59-1.43-.59-.52 0-1.04.2-1.43.59L10.3 9.45l-7.72 7.72c-.78.78-.78 2.05 0 2.83L4 21.41c.39.39.9.59 1.41.59.51 0 1.02-.2 1.41-.59l7.78-7.78 2.81-2.81c.8-.78.8-2.07 0-2.86zM5.41 20L4 18.59l7.72-7.72 1.47 1.35L5.41 20z\"/>\n",
              "  </svg>\n",
              "      </button>\n",
              "      \n",
              "  <style>\n",
              "    .colab-df-container {\n",
              "      display:flex;\n",
              "      flex-wrap:wrap;\n",
              "      gap: 12px;\n",
              "    }\n",
              "\n",
              "    .colab-df-convert {\n",
              "      background-color: #E8F0FE;\n",
              "      border: none;\n",
              "      border-radius: 50%;\n",
              "      cursor: pointer;\n",
              "      display: none;\n",
              "      fill: #1967D2;\n",
              "      height: 32px;\n",
              "      padding: 0 0 0 0;\n",
              "      width: 32px;\n",
              "    }\n",
              "\n",
              "    .colab-df-convert:hover {\n",
              "      background-color: #E2EBFA;\n",
              "      box-shadow: 0px 1px 2px rgba(60, 64, 67, 0.3), 0px 1px 3px 1px rgba(60, 64, 67, 0.15);\n",
              "      fill: #174EA6;\n",
              "    }\n",
              "\n",
              "    [theme=dark] .colab-df-convert {\n",
              "      background-color: #3B4455;\n",
              "      fill: #D2E3FC;\n",
              "    }\n",
              "\n",
              "    [theme=dark] .colab-df-convert:hover {\n",
              "      background-color: #434B5C;\n",
              "      box-shadow: 0px 1px 3px 1px rgba(0, 0, 0, 0.15);\n",
              "      filter: drop-shadow(0px 1px 2px rgba(0, 0, 0, 0.3));\n",
              "      fill: #FFFFFF;\n",
              "    }\n",
              "  </style>\n",
              "\n",
              "      <script>\n",
              "        const buttonEl =\n",
              "          document.querySelector('#df-51b03d70-34f0-4a75-af71-2fbdc3b644e5 button.colab-df-convert');\n",
              "        buttonEl.style.display =\n",
              "          google.colab.kernel.accessAllowed ? 'block' : 'none';\n",
              "\n",
              "        async function convertToInteractive(key) {\n",
              "          const element = document.querySelector('#df-51b03d70-34f0-4a75-af71-2fbdc3b644e5');\n",
              "          const dataTable =\n",
              "            await google.colab.kernel.invokeFunction('convertToInteractive',\n",
              "                                                     [key], {});\n",
              "          if (!dataTable) return;\n",
              "\n",
              "          const docLinkHtml = 'Like what you see? Visit the ' +\n",
              "            '<a target=\"_blank\" href=https://colab.research.google.com/notebooks/data_table.ipynb>data table notebook</a>'\n",
              "            + ' to learn more about interactive tables.';\n",
              "          element.innerHTML = '';\n",
              "          dataTable['output_type'] = 'display_data';\n",
              "          await google.colab.output.renderOutput(dataTable, element);\n",
              "          const docLink = document.createElement('div');\n",
              "          docLink.innerHTML = docLinkHtml;\n",
              "          element.appendChild(docLink);\n",
              "        }\n",
              "      </script>\n",
              "    </div>\n",
              "  </div>\n",
              "  "
            ]
          },
          "metadata": {},
          "execution_count": 12
        }
      ]
    },
    {
      "cell_type": "markdown",
      "source": [
        "Distribution of Income"
      ],
      "metadata": {
        "id": "1-KkbnwFTL8J"
      }
    },
    {
      "cell_type": "code",
      "source": [
        "plt.hist(df_clean.income)\n"
      ],
      "metadata": {
        "colab": {
          "base_uri": "https://localhost:8080/",
          "height": 334
        },
        "id": "I7KmakCcTgpp",
        "outputId": "6dbed288-be19-430d-b783-0aa3325bdafa"
      },
      "execution_count": 31,
      "outputs": [
        {
          "output_type": "execute_result",
          "data": {
            "text/plain": [
              "(array([820., 765., 468., 481., 441., 446., 388., 412., 389., 387.]),\n",
              " array([ 20028.,  34019.,  48010.,  62001.,  75992.,  89983., 103974.,\n",
              "        117965., 131956., 145947., 159938.]),\n",
              " <a list of 10 Patch objects>)"
            ]
          },
          "metadata": {},
          "execution_count": 31
        },
        {
          "output_type": "display_data",
          "data": {
            "text/plain": [
              "<Figure size 432x288 with 1 Axes>"
            ],
            "image/png": "[encoded data removed]"
          },
          "metadata": {
            "needs_background": "light"
          }
        }
      ]
    },
    {
      "cell_type": "markdown",
      "source": [
        "Scatter Plot of Calls over 15 minutes and Overage"
      ],
      "metadata": {
        "id": "f1SwmBT7V5pA"
      }
    },
    {
      "cell_type": "code",
      "source": [
        "plt.scatter(df_clean.over_15mins_calls_per_month, df_clean.overage)"
      ],
      "metadata": {
        "colab": {
          "base_uri": "https://localhost:8080/",
          "height": 285
        },
        "id": "Cg6BEz1aV_hb",
        "outputId": "cfb8df45-3ee3-4069-978c-4ab33dfe5ec7"
      },
      "execution_count": 32,
      "outputs": [
        {
          "output_type": "execute_result",
          "data": {
            "text/plain": [
              "<matplotlib.collections.PathCollection at 0x7f9fde39e3a0>"
            ]
          },
          "metadata": {},
          "execution_count": 32
        },
        {
          "output_type": "display_data",
          "data": {
            "text/plain": [
              "<Figure size 432x288 with 1 Axes>"
            ],
            "image/png": "[encoded data removed]"
          },
          "metadata": {
            "needs_background": "light"
          }
        }
      ]
    },
    {
      "cell_type": "markdown",
      "source": [
        "Group By Over 15 Calls per month"
      ],
      "metadata": {
        "id": "LKQo4fASWXsl"
      }
    },
    {
      "cell_type": "code",
      "source": [
        "minGroup = df_clean[['over_15mins_calls_per_month','overage']].groupby('over_15mins_calls_per_month').mean().round(2)\n",
        "print(minGroup)"
      ],
      "metadata": {
        "colab": {
          "base_uri": "https://localhost:8080/"
        },
        "id": "Ycbs8cHqWdHH",
        "outputId": "86b45618-4669-43c0-a29d-4c50f2fd5a0d"
      },
      "execution_count": 38,
      "outputs": [
        {
          "output_type": "stream",
          "name": "stdout",
          "text": [
            "                             overage\n",
            "over_15mins_calls_per_month         \n",
            "0.0                            12.39\n",
            "1.0                            14.41\n",
            "3.0                            62.72\n",
            "4.0                            62.54\n",
            "5.0                            67.91\n",
            "10.0                          178.50\n",
            "11.0                          177.62\n",
            "12.0                          186.33\n",
            "13.0                          177.26\n",
            "14.0                          181.21\n",
            "15.0                          185.65\n",
            "16.0                          169.30\n",
            "17.0                          176.02\n",
            "18.0                          190.78\n",
            "19.0                          187.02\n",
            "20.0                          186.44\n",
            "21.0                          183.99\n",
            "22.0                          178.56\n",
            "23.0                          187.34\n",
            "24.0                          199.33\n",
            "25.0                          179.38\n",
            "26.0                          179.13\n",
            "27.0                          179.15\n",
            "28.0                          193.82\n",
            "29.0                          187.28\n"
          ]
        }
      ]
    },
    {
      "cell_type": "markdown",
      "source": [
        "Only keeping observations in middle 50% of income"
      ],
      "metadata": {
        "id": "eHbWFufZX3Bg"
      }
    },
    {
      "cell_type": "code",
      "source": [
        "from pandas.core.array_algos import quantile\n",
        "mid50 = df_clean[(df['income'] > np.quantile(df['income'], .25)) & (df['income'] < np.quantile(df['income'], .75)) ]\n",
        "\n",
        "## df[(df['house'] > 0) & (df['income'] > 0) & (df['handset_price'] < 1000)]"
      ],
      "metadata": {
        "colab": {
          "base_uri": "https://localhost:8080/"
        },
        "id": "5QogQRfhYDcO",
        "outputId": "ee27dee7-2e06-4399-f6ab-c8da4dcc22a0"
      },
      "execution_count": 51,
      "outputs": [
        {
          "output_type": "stream",
          "name": "stderr",
          "text": [
            "<ipython-input-51-c9c3f260fdbb>:2: UserWarning: Boolean Series key will be reindexed to match DataFrame index.\n",
            "  mid50 = df_clean[(df['income'] > np.quantile(df['income'], .25)) & (df['income'] < np.quantile(df['income'], .75)) ]\n"
          ]
        }
      ]
    }
  ]
}